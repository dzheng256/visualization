{
 "cells": [
  {
   "cell_type": "code",
   "execution_count": null,
   "metadata": {
    "collapsed": false
   },
   "outputs": [],
   "source": [
    "import random\n",
    "import math\n",
    "import numpy as np\n",
    "import matplotlib.pyplot as plt\n",
    "import matplotlib\n",
    "%matplotlib inline"
   ]
  },
  {
   "cell_type": "markdown",
   "metadata": {},
   "source": [
    "## DLA Functions"
   ]
  },
  {
   "cell_type": "code",
   "execution_count": null,
   "metadata": {
    "collapsed": true
   },
   "outputs": [],
   "source": [
    "def stick(position, probability, grid, size):\n",
    "    \"\"\" Check if point should stick or not \"\"\"\n",
    "    directions = [[1, 0], [-1, 0], [0, 1], [0, -1]]\n",
    "    stick = False\n",
    "    for d in directions:\n",
    "        surrounding = [position[0] + d[0], position[1] + d[1]]\n",
    "        if surrounding[0] >= 0 and surrounding[0] < size and surrounding[1] >= 0 and surrounding[1] < size:\n",
    "            p_stick = random.random()\n",
    "            if grid[surrounding[0]][surrounding[1]] == 1 and p_stick <= probability:\n",
    "                stick = True\n",
    "                break\n",
    "    return stick\n",
    "\n",
    "def generate_grid(grid_size):\n",
    "    \"\"\" Generate grid to check surroundings \"\"\"\n",
    "    g = [[0 for i in range(grid_size)] for j in range(grid_size)]\n",
    "    g[int(grid_size / 2)][int(grid_size / 2)] = 1\n",
    "    return g\n",
    "\n",
    "def walk(position, step):\n",
    "    \"\"\" Move point \"\"\"\n",
    "    return [position[0] + step[0], position[1] + step[1]]\n",
    "\n",
    "def select_direction(position, size):\n",
    "    \"\"\" Select possible directions for point to move \"\"\"\n",
    "    possible_directions = [[1, 0], [-1, 0], [0, 1], [0, -1]]\n",
    "    if position[0] == size:\n",
    "        possible_directions.remove([1, 0])\n",
    "    if position[1] == size:\n",
    "        possible_directions.remove([0, 1])\n",
    "    if position[0] == 0:\n",
    "        possible_directions.remove([-1, 0])\n",
    "    if position[1] == 0:\n",
    "        possible_directions.remove([0, -1])\n",
    "    direction = possible_directions[random.randint(0, len(possible_directions) - 1)]\n",
    "    return direction"
   ]
  },
  {
   "cell_type": "markdown",
   "metadata": {},
   "source": [
    "## Main DLA Method"
   ]
  },
  {
   "cell_type": "code",
   "execution_count": null,
   "metadata": {
    "collapsed": true
   },
   "outputs": [],
   "source": [
    "def dla_run(size, n_points, probability):\n",
    "    \"\"\" DLA run with given size, number of points and sticking probability\"\"\"\n",
    "    print('Starting DLA run with S: %i | N: %i | P: %.2f' % (size, n_points, probability))\n",
    "    grid = generate_grid(size)\n",
    "    starting_positions = [[0, i] for i in range(size)] + [[i, 0] for i in range(size)]\n",
    "    starting_positions += [[size, i] for i in range(size)] + [[i, size] for i in range(size)]\n",
    "    points = [[int(size / 2), int(size / 2)]]\n",
    "\n",
    "    for run in range(n_points):\n",
    "        start = starting_positions[random.randint(0, len(starting_positions) - 1)]\n",
    "        position = start\n",
    "        walking = True\n",
    "\n",
    "        while walking:\n",
    "            step = select_direction(position, size)\n",
    "            position = walk(position, step)\n",
    "            if stick(position, probability, grid, size):\n",
    "                walking = False\n",
    "                points.append(position)\n",
    "                grid[position[0]][position[1]] = 1\n",
    "    points_x = [i[0] for i in points]\n",
    "    points_y = [i[1] for i in points]\n",
    "    print('Done!')\n",
    "    return points_x, points_y"
   ]
  },
  {
   "cell_type": "markdown",
   "metadata": {
    "collapsed": false
   },
   "source": [
    "## Multiple runs with different probability"
   ]
  },
  {
   "cell_type": "code",
   "execution_count": null,
   "metadata": {
    "collapsed": false
   },
   "outputs": [],
   "source": [
    "size = 100\n",
    "n_points = 300\n",
    "p = [0.1, 0.4, 0.7, 1.0]\n",
    "\n",
    "# Initialize figure and set size\n",
    "fig = plt.figure(figsize=(16, 4))\n",
    "\n",
    "# Plot 1\n",
    "ax1 = fig.add_subplot(141, title='S: %i | N: %i | P: %.2f' % (size, n_points, p[0]))\n",
    "x, y = dla_run(size, n_points, p[0])\n",
    "ax1.scatter(x, y)\n",
    "plt.xlim(0, size), plt.ylim(0, size)\n",
    "\n",
    "# Plot 2\n",
    "ax2 = fig.add_subplot(142, title='S: %i | N: %i | P: %.2f' % (size, n_points, p[1]))\n",
    "x, y = dla_run(size, n_points, p[1])\n",
    "ax2.scatter(x, y)\n",
    "plt.xlim(0, size), plt.ylim(0, size)\n",
    "\n",
    "# Plot 3\n",
    "ax3 = fig.add_subplot(143, title='S: %i | N: %i | P: %.2f' % (size, n_points, p[2]))\n",
    "x, y = dla_run(size, n_points, p[2])\n",
    "ax3.scatter(x, y)\n",
    "plt.xlim(0, size), plt.ylim(0, size)\n",
    "\n",
    "# Plot 4\n",
    "ax4 = fig.add_subplot(144, title='S: %i | N: %i | P: %.2f' % (size, n_points, p[3]))\n",
    "x, y = dla_run(size, n_points, p[3])\n",
    "ax4.scatter(x, y)\n",
    "plt.xlim(0, size), plt.ylim(0, size)\n",
    "\n",
    "plt.show()"
   ]
  },
  {
   "cell_type": "code",
   "execution_count": null,
   "metadata": {
    "collapsed": false
   },
   "outputs": [],
   "source": [
    "# Initialize figure and set size\n",
    "fig = plt.figure(figsize=(17, 4))\n",
    "\n",
    "cmap = plt.get_cmap('Spectral_r')\n",
    "extent = [0, size, 0, size]\n",
    "bin_size = 5\n",
    "\n",
    "side = 100\n",
    "n_points = 300\n",
    "p = [0.1, 0.4, 0.7, 1.0]\n",
    "\n",
    "# Initialize figure and set size\n",
    "fig = plt.figure(figsize=(16, 4))\n",
    "\n",
    "# Plot 1\n",
    "ax1 = fig.add_subplot(141, title='S: %i | N: %i | P: %.2f' % (size, n_points, p[0]))\n",
    "x, y = dla_run(size, n_points, p[0])\n",
    "heatmap, xe, ye = np.histogram2d(x, y, bins=bin_size, normed=False)\n",
    "H = heatmap.T\n",
    "plt.imshow(H, interpolation='nearest', origin='low', extent=extent, cmap=cmap, vmin=1)\n",
    "c = plt.colorbar(fraction=0.046, pad=0.07, orientation='horizontal')\n",
    "\n",
    "\n",
    "# Plot 2\n",
    "ax2 = fig.add_subplot(142, title='S: %i | N: %i | P: %.2f' % (size, n_points, p[1]))\n",
    "x, y = dla_run(size, n_points, p[1])\n",
    "heatmap, xe, ye = np.histogram2d(x, y, bins=bin_size, normed=False)\n",
    "H = heatmap.T\n",
    "plt.imshow(H, interpolation='nearest', origin='low', extent=extent, cmap=cmap, vmin=1)\n",
    "c = plt.colorbar(fraction=0.046, pad=0.07, orientation='horizontal')\n",
    "\n",
    "# Plot 3\n",
    "ax3 = fig.add_subplot(143, title='S: %i | N: %i | P: %.2f' % (size, n_points, p[2]))\n",
    "x, y = dla_run(size, n_points, p[2])\n",
    "heatmap, xe, ye = np.histogram2d(x, y, bins=bin_size, normed=False)\n",
    "H = heatmap.T\n",
    "plt.imshow(H, interpolation='nearest', origin='low', extent=extent, cmap=cmap, vmin=1)\n",
    "c = plt.colorbar(fraction=0.046, pad=0.07, orientation='horizontal')\n",
    "\n",
    "# Plot 4\n",
    "ax4 = fig.add_subplot(144, title='S: %i | N: %i | P: %.2f' % (size, n_points, p[3]))\n",
    "x, y = dla_run(size, n_points, p[3])\n",
    "heatmap, xe, ye = np.histogram2d(x, y, bins=bin_size, normed=False)\n",
    "H = heatmap.T\n",
    "plt.imshow(H, interpolation='nearest', origin='low', extent=extent, cmap=cmap, vmin=1)\n",
    "c = plt.colorbar(fraction=0.046, pad=0.07, orientation='horizontal')\n",
    "\n",
    "plt.show()"
   ]
  },
  {
   "cell_type": "code",
   "execution_count": null,
   "metadata": {
    "collapsed": false
   },
   "outputs": [],
   "source": []
  },
  {
   "cell_type": "code",
   "execution_count": null,
   "metadata": {
    "collapsed": false
   },
   "outputs": [],
   "source": []
  },
  {
   "cell_type": "code",
   "execution_count": null,
   "metadata": {
    "collapsed": false
   },
   "outputs": [],
   "source": []
  },
  {
   "cell_type": "code",
   "execution_count": null,
   "metadata": {
    "collapsed": false
   },
   "outputs": [],
   "source": []
  },
  {
   "cell_type": "code",
   "execution_count": null,
   "metadata": {
    "collapsed": true
   },
   "outputs": [],
   "source": []
  }
 ],
 "metadata": {
  "kernelspec": {
   "display_name": "Python 3",
   "language": "python",
   "name": "python3"
  },
  "language_info": {
   "codemirror_mode": {
    "name": "ipython",
    "version": 3
   },
   "file_extension": ".py",
   "mimetype": "text/x-python",
   "name": "python",
   "nbconvert_exporter": "python",
   "pygments_lexer": "ipython3",
   "version": "3.5.2"
  }
 },
 "nbformat": 4,
 "nbformat_minor": 0
}
