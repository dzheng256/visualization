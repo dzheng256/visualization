{
 "cells": [
  {
   "cell_type": "code",
   "execution_count": null,
   "metadata": {
    "collapsed": false
   },
   "outputs": [],
   "source": [
    "import numpy as np\n",
    "import random\n",
    "import math\n",
    "\n",
    "import matplotlib\n",
    "import matplotlib.pyplot as plt\n",
    "from matplotlib.animation import FuncAnimation\n",
    "from matplotlib import rc\n",
    "from IPython.display import HTML"
   ]
  },
  {
   "cell_type": "markdown",
   "metadata": {},
   "source": [
    "## DLA Functions"
   ]
  },
  {
   "cell_type": "code",
   "execution_count": null,
   "metadata": {
    "collapsed": true
   },
   "outputs": [],
   "source": [
    "def stick(position, probability, grid, size):\n",
    "    \"\"\" Check if point should stick or not \"\"\"\n",
    "    directions = [[1, 0], [-1, 0], [0, 1], [0, -1]]\n",
    "    stick = False\n",
    "    for d in directions:\n",
    "        surrounding = [position[0] + d[0], position[1] + d[1]]\n",
    "        if surrounding[0] >= 0 and surrounding[0] < size and surrounding[1] >= 0 and surrounding[1] < size:\n",
    "            p_stick = random.random()\n",
    "            if grid[surrounding[0]][surrounding[1]] == 1 and p_stick <= probability:\n",
    "                stick = True\n",
    "                break\n",
    "    return stick\n",
    "\n",
    "def generate_grid(grid_size):\n",
    "    \"\"\" Generate grid to check surroundings \"\"\"\n",
    "    g = [[0 for i in range(grid_size)] for j in range(grid_size)]\n",
    "    g[int(grid_size / 2)][int(grid_size / 2)] = 1\n",
    "    return g\n",
    "\n",
    "def walk(position, step):\n",
    "    \"\"\" Move point \"\"\"\n",
    "    return [position[0] + step[0], position[1] + step[1]]\n",
    "\n",
    "def select_direction(position, size):\n",
    "    \"\"\" Select possible directions for point to move \"\"\"\n",
    "    possible_directions = [[1, 0], [-1, 0], [0, 1], [0, -1]]\n",
    "    if position[0] == size:\n",
    "        possible_directions.remove([1, 0])\n",
    "    if position[1] == size:\n",
    "        possible_directions.remove([0, 1])\n",
    "    if position[0] == 0:\n",
    "        possible_directions.remove([-1, 0])\n",
    "    if position[1] == 0:\n",
    "        possible_directions.remove([0, -1])\n",
    "    direction = possible_directions[random.randint(0, len(possible_directions) - 1)]\n",
    "    return direction"
   ]
  },
  {
   "cell_type": "markdown",
   "metadata": {},
   "source": [
    "## Main DLA method"
   ]
  },
  {
   "cell_type": "code",
   "execution_count": null,
   "metadata": {
    "collapsed": true
   },
   "outputs": [],
   "source": [
    "def dla_run(size, n_points, probability):\n",
    "    \"\"\" DLA run with given size, number of points and sticking probability\"\"\"\n",
    "    print('Starting DLA run with S: %i | N: %i | P: %.2f' % (size, n_points, probability))\n",
    "    grid = generate_grid(size)\n",
    "    starting_positions = [[0, i] for i in range(size)] + [[i, 0] for i in range(size)]\n",
    "    starting_positions += [[size, i] for i in range(size)] + [[i, size] for i in range(size)]\n",
    "    points = [[int(size / 2), int(size / 2)]]\n",
    "\n",
    "    for run in range(n_points):\n",
    "        start = starting_positions[random.randint(0, len(starting_positions) - 1)]\n",
    "        position = start\n",
    "        walking = True\n",
    "\n",
    "        while walking:\n",
    "            step = select_direction(position, size)\n",
    "            position = walk(position, step)\n",
    "            if stick(position, probability, grid, size):\n",
    "                walking = False\n",
    "                points.append(position)\n",
    "                grid[position[0]][position[1]] = 1\n",
    "    points_x = [i[0] for i in points]\n",
    "    points_y = [i[1] for i in points]\n",
    "    print('Done!')\n",
    "    return points_x, points_y"
   ]
  },
  {
   "cell_type": "markdown",
   "metadata": {},
   "source": [
    "## Run DLA"
   ]
  },
  {
   "cell_type": "code",
   "execution_count": null,
   "metadata": {
    "collapsed": false
   },
   "outputs": [],
   "source": [
    "size = 50\n",
    "n_points = 200\n",
    "p = 1\n",
    "\n",
    "x, y = dla_run(size, n_points, p)"
   ]
  },
  {
   "cell_type": "markdown",
   "metadata": {},
   "source": [
    "## Initialize animation"
   ]
  },
  {
   "cell_type": "code",
   "execution_count": null,
   "metadata": {
    "collapsed": false
   },
   "outputs": [],
   "source": [
    "# Create new Figure and an Axes which fills it.\n",
    "fig = plt.figure(figsize=(6, 6))\n",
    "ax = fig.add_axes([0.1, 0.1, 0.8, 0.8])\n",
    "ax.set_xlim(0, size)\n",
    "ax.set_ylim(0, size)"
   ]
  },
  {
   "cell_type": "code",
   "execution_count": null,
   "metadata": {
    "collapsed": false
   },
   "outputs": [],
   "source": [
    "center = [size / 2, size / 2]\n",
    "max_dist = math.sqrt((size) ** 2 + (size) ** 2)\n",
    "max_dist = math.sqrt((size - center[0]) ** 2 + (size - center[1]) ** 2)\n",
    "def norm_dist(new_point, center, max_dist):\n",
    "    c_x, c_y = center\n",
    "    x, y = new_point\n",
    "    return math.sqrt((c_x - x) ** 2 + (c_y - y) ** 2) / max_dist\n",
    "\n",
    "# Read positions\n",
    "points = dict(position=[], size=50, color=[], lw=0.2, edgecolor='b', marker='o')\n",
    "points['position'] = []\n",
    "for i, j in zip(x, y):\n",
    "    points['position'].append([i, j])\n",
    "\n",
    "# Get colormap\n",
    "cmap = matplotlib.cm.get_cmap('Spectral_r')\n",
    "\n",
    "mid = [int(size / 2), int(size / 2)]\n",
    "mid_color = cmap(norm_dist(mid, center, max_dist))\n",
    "scat = ax.scatter(int(size / 2), int(size / 2), marker='o', s=points['size'], facecolors=mid_color)\n",
    "point_count = 0"
   ]
  },
  {
   "cell_type": "markdown",
   "metadata": {},
   "source": [
    "## Animate"
   ]
  },
  {
   "cell_type": "code",
   "execution_count": null,
   "metadata": {
    "collapsed": false
   },
   "outputs": [],
   "source": [
    "%matplotlib inline\n",
    "interval = int(len(points['position']))\n",
    "\n",
    "def update(frame_number):\n",
    "    speed = int(n_points / 100)\n",
    "    for i in range(speed):\n",
    "        new_point = points['position'][frame_number * speed + i]\n",
    "        dist = norm_dist(new_point, center, max_dist)\n",
    "        color = cmap(dist)\n",
    "        ax.scatter(new_point[0], new_point[1], marker='o', s=points['size'], facecolors=color)\n",
    "        ax.set_title('Number of points: %i' % int((frame_number + 1) * speed))\n",
    "\n",
    "# Construct the animation, using the update function as the animation director.\n",
    "animation = FuncAnimation(fig, update, interval=interval)\n",
    "# animation.save('dla.avi', dpi=200)\n",
    "HTML(animation.to_html5_video())\n",
    "rc('animation', html='html5')\n",
    "animation"
   ]
  },
  {
   "cell_type": "code",
   "execution_count": null,
   "metadata": {
    "collapsed": false
   },
   "outputs": [],
   "source": []
  },
  {
   "cell_type": "code",
   "execution_count": null,
   "metadata": {
    "collapsed": false
   },
   "outputs": [],
   "source": []
  },
  {
   "cell_type": "code",
   "execution_count": null,
   "metadata": {
    "collapsed": true
   },
   "outputs": [],
   "source": []
  }
 ],
 "metadata": {
  "kernelspec": {
   "display_name": "Python 3",
   "language": "python",
   "name": "python3"
  },
  "language_info": {
   "codemirror_mode": {
    "name": "ipython",
    "version": 3
   },
   "file_extension": ".py",
   "mimetype": "text/x-python",
   "name": "python",
   "nbconvert_exporter": "python",
   "pygments_lexer": "ipython3",
   "version": "3.5.2"
  }
 },
 "nbformat": 4,
 "nbformat_minor": 0
}
